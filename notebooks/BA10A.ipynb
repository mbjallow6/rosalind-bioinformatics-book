{
 "cells": [
  {
   "cell_type": "markdown",
   "id": "7b5fba88",
   "metadata": {},
   "source": [
    "---\n",
    "title: \"Chapter BA10A: Probability of a Hidden Path\"\n",
    "format:\n",
    "  html:\n",
    "    code-fold: false\n",
    "    toc: true\n",
    "jupyter: python3\n",
    "---\n",
    "\n",
    "## Problem Statement and Biological Context\n",
    "\n",
    "**Given:** A hidden path π followed by the states States and transition matrix Transition of an HMM (Σ, States, Transition, Emission).\n",
    "\n",
    "**Return:** The probability of this path, Pr(π). You may assume that initial probabilities are equal.\n",
    "\n",
    "**Sample Dataset:**\n",
    "```\n",
    "AABBBAABABAAAABBBBAABBABABBBAABBAAAABABAABBABABBAB\n",
    "--------\n",
    "A   B\n",
    "--------\n",
    "    A   B\n",
    "A   0.194   0.806\n",
    "B   0.273   0.727\n",
    "```\n",
    "\n",
    "**Sample Output:**\n",
    "```\n",
    "5.01732865318e-19\n",
    "```\n",
    "This problem introduces us to Hidden Markov Models (HMMs), one of the most fundamental statistical frameworks in bioinformatics[1][2]. HMMs are probabilistic models that describe sequences where the underlying process generating the observations is hidden from direct view[2][8]. In biological contexts, HMMs are extensively used for gene finding, protein structure prediction, sequence alignment, and identifying functional domains in proteins[8][29].\n",
    "\n",
    "The hidden path probability calculation forms the foundation for more complex HMM algorithms like the Viterbi algorithm for decoding and the Forward-Backward algorithm for parameter estimation[5][6]. Understanding this computation is essential because it represents the core mathematical operation that quantifies how likely a particular sequence of hidden states is given the model parameters.\n",
    "\n",
    "In genomics, this could model scenarios such as CG-island detection (where hidden states represent \"inside\" vs \"outside\" CG-rich regions), gene structure annotation (exons vs introns), or chromatin state segmentation (active vs inactive transcription regions)[1][42]. The transition probabilities capture the biological tendency for these states to persist or change over genomic coordinates."
   ]
  }
 ],
 "metadata": {
  "language_info": {
   "name": "python"
  }
 },
 "nbformat": 4,
 "nbformat_minor": 5
}
