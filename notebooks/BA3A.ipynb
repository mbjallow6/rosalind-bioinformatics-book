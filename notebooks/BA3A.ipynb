{
 "cells": [
  {
   "cell_type": "markdown",
   "id": "6722fe3c",
   "metadata": {},
   "source": [
    "---\n",
    "title: \"Chapter BA3A: xxxx\"\n",
    "format:\n",
    "  html:\n",
    "    code-fold: false\n",
    "    toc: true\n",
    "jupyter: python3\n",
    "---"
   ]
  }
 ],
 "metadata": {
  "language_info": {
   "name": "python"
  }
 },
 "nbformat": 4,
 "nbformat_minor": 5
}
